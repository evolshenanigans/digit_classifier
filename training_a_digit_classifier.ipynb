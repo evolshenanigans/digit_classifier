{
 "cells": [
  {
   "cell_type": "markdown",
   "id": "5b41dfac-1130-4a5f-a653-026a0d61bf96",
   "metadata": {},
   "source": [
    "# using FastAI to create a digit classifier"
   ]
  },
  {
   "cell_type": "markdown",
   "id": "8ea3a457-587d-4f63-9b0d-6f3ffa9a1851",
   "metadata": {},
   "source": [
    "in this we will discuss the roles of arrays and tensors and of broadcasting techniques. we will also cover stochastic gradient descent(sgd) which is a mechanism for learning by updating weights automatically.we will cover the choice of a loss function for our basic classification task and the role of minibatches. I will also the math in the nueral network and what it is doing."
   ]
  },
  {
   "cell_type": "markdown",
   "id": "79f499e1-2770-41cb-86ca-66ebcc6923c1",
   "metadata": {},
   "source": [
    "#### Lets ask the question. \" how are images represented in a computer?\""
   ]
  },
  {
   "cell_type": "code",
   "execution_count": 1,
   "id": "2544576c-28c0-45d5-bec5-27ad1aaffacc",
   "metadata": {},
   "outputs": [
    {
     "name": "stdout",
     "output_type": "stream",
     "text": [
      "Requirement already satisfied: fastai in c:\\users\\gjgut\\miniconda3\\lib\\site-packages (2.7.18)\n",
      "Requirement already satisfied: pip in c:\\users\\gjgut\\miniconda3\\lib\\site-packages (from fastai) (23.3.1)\n",
      "Requirement already satisfied: packaging in c:\\users\\gjgut\\miniconda3\\lib\\site-packages (from fastai) (23.2)\n",
      "Requirement already satisfied: fastdownload<2,>=0.0.5 in c:\\users\\gjgut\\miniconda3\\lib\\site-packages (from fastai) (0.0.7)\n",
      "Requirement already satisfied: fastcore<1.8,>=1.5.29 in c:\\users\\gjgut\\miniconda3\\lib\\site-packages (from fastai) (1.7.27)\n",
      "Requirement already satisfied: torchvision>=0.11 in c:\\users\\gjgut\\miniconda3\\lib\\site-packages (from fastai) (0.20.1)\n",
      "Requirement already satisfied: matplotlib in c:\\users\\gjgut\\miniconda3\\lib\\site-packages (from fastai) (3.9.2)\n",
      "Requirement already satisfied: pandas in c:\\users\\gjgut\\miniconda3\\lib\\site-packages (from fastai) (2.2.3)\n",
      "Requirement already satisfied: requests in c:\\users\\gjgut\\miniconda3\\lib\\site-packages (from fastai) (2.32.3)\n",
      "Requirement already satisfied: pyyaml in c:\\users\\gjgut\\miniconda3\\lib\\site-packages (from fastai) (6.0.1)\n",
      "Requirement already satisfied: fastprogress>=0.2.4 in c:\\users\\gjgut\\miniconda3\\lib\\site-packages (from fastai) (1.0.3)\n",
      "Requirement already satisfied: pillow>=9.0.0 in c:\\users\\gjgut\\miniconda3\\lib\\site-packages (from fastai) (10.4.0)\n",
      "Requirement already satisfied: scikit-learn in c:\\users\\gjgut\\miniconda3\\lib\\site-packages (from fastai) (1.5.2)\n",
      "Requirement already satisfied: scipy in c:\\users\\gjgut\\miniconda3\\lib\\site-packages (from fastai) (1.14.1)\n",
      "Requirement already satisfied: spacy<4 in c:\\users\\gjgut\\miniconda3\\lib\\site-packages (from fastai) (3.8.3)\n",
      "Requirement already satisfied: torch<2.6,>=1.10 in c:\\users\\gjgut\\miniconda3\\lib\\site-packages (from fastai) (2.5.1)\n",
      "Requirement already satisfied: spacy-legacy<3.1.0,>=3.0.11 in c:\\users\\gjgut\\miniconda3\\lib\\site-packages (from spacy<4->fastai) (3.0.12)\n",
      "Requirement already satisfied: spacy-loggers<2.0.0,>=1.0.0 in c:\\users\\gjgut\\miniconda3\\lib\\site-packages (from spacy<4->fastai) (1.0.5)\n",
      "Requirement already satisfied: murmurhash<1.1.0,>=0.28.0 in c:\\users\\gjgut\\miniconda3\\lib\\site-packages (from spacy<4->fastai) (1.0.11)\n",
      "Requirement already satisfied: cymem<2.1.0,>=2.0.2 in c:\\users\\gjgut\\miniconda3\\lib\\site-packages (from spacy<4->fastai) (2.0.10)\n",
      "Requirement already satisfied: preshed<3.1.0,>=3.0.2 in c:\\users\\gjgut\\miniconda3\\lib\\site-packages (from spacy<4->fastai) (3.0.9)\n",
      "Requirement already satisfied: thinc<8.4.0,>=8.3.0 in c:\\users\\gjgut\\miniconda3\\lib\\site-packages (from spacy<4->fastai) (8.3.2)\n",
      "Requirement already satisfied: wasabi<1.2.0,>=0.9.1 in c:\\users\\gjgut\\miniconda3\\lib\\site-packages (from spacy<4->fastai) (1.1.3)\n",
      "Requirement already satisfied: srsly<3.0.0,>=2.4.3 in c:\\users\\gjgut\\miniconda3\\lib\\site-packages (from spacy<4->fastai) (2.5.0)\n",
      "Requirement already satisfied: catalogue<2.1.0,>=2.0.6 in c:\\users\\gjgut\\miniconda3\\lib\\site-packages (from spacy<4->fastai) (2.0.10)\n",
      "Requirement already satisfied: weasel<0.5.0,>=0.1.0 in c:\\users\\gjgut\\miniconda3\\lib\\site-packages (from spacy<4->fastai) (0.4.1)\n",
      "Requirement already satisfied: typer<1.0.0,>=0.3.0 in c:\\users\\gjgut\\miniconda3\\lib\\site-packages (from spacy<4->fastai) (0.15.1)\n",
      "Requirement already satisfied: tqdm<5.0.0,>=4.38.0 in c:\\users\\gjgut\\miniconda3\\lib\\site-packages (from spacy<4->fastai) (4.65.0)\n",
      "Requirement already satisfied: numpy>=1.19.0 in c:\\users\\gjgut\\miniconda3\\lib\\site-packages (from spacy<4->fastai) (2.0.2)\n",
      "Requirement already satisfied: pydantic!=1.8,!=1.8.1,<3.0.0,>=1.7.4 in c:\\users\\gjgut\\miniconda3\\lib\\site-packages (from spacy<4->fastai) (2.10.3)\n",
      "Requirement already satisfied: jinja2 in c:\\users\\gjgut\\miniconda3\\lib\\site-packages (from spacy<4->fastai) (3.1.4)\n",
      "Requirement already satisfied: setuptools in c:\\users\\gjgut\\miniconda3\\lib\\site-packages (from spacy<4->fastai) (68.2.2)\n",
      "Requirement already satisfied: langcodes<4.0.0,>=3.2.0 in c:\\users\\gjgut\\miniconda3\\lib\\site-packages (from spacy<4->fastai) (3.5.0)\n",
      "Requirement already satisfied: charset-normalizer<4,>=2 in c:\\users\\gjgut\\miniconda3\\lib\\site-packages (from requests->fastai) (2.0.4)\n",
      "Requirement already satisfied: idna<4,>=2.5 in c:\\users\\gjgut\\miniconda3\\lib\\site-packages (from requests->fastai) (3.10)\n",
      "Requirement already satisfied: urllib3<3,>=1.21.1 in c:\\users\\gjgut\\miniconda3\\lib\\site-packages (from requests->fastai) (2.2.3)\n",
      "Requirement already satisfied: certifi>=2017.4.17 in c:\\users\\gjgut\\miniconda3\\lib\\site-packages (from requests->fastai) (2023.11.17)\n",
      "Requirement already satisfied: filelock in c:\\users\\gjgut\\miniconda3\\lib\\site-packages (from torch<2.6,>=1.10->fastai) (3.16.1)\n",
      "Requirement already satisfied: typing-extensions>=4.8.0 in c:\\users\\gjgut\\miniconda3\\lib\\site-packages (from torch<2.6,>=1.10->fastai) (4.12.2)\n",
      "Requirement already satisfied: networkx in c:\\users\\gjgut\\miniconda3\\lib\\site-packages (from torch<2.6,>=1.10->fastai) (3.4.2)\n",
      "Requirement already satisfied: fsspec in c:\\users\\gjgut\\miniconda3\\lib\\site-packages (from torch<2.6,>=1.10->fastai) (2024.10.0)\n",
      "Requirement already satisfied: sympy==1.13.1 in c:\\users\\gjgut\\miniconda3\\lib\\site-packages (from torch<2.6,>=1.10->fastai) (1.13.1)\n",
      "Requirement already satisfied: mpmath<1.4,>=1.1.0 in c:\\users\\gjgut\\miniconda3\\lib\\site-packages (from sympy==1.13.1->torch<2.6,>=1.10->fastai) (1.3.0)\n",
      "Requirement already satisfied: contourpy>=1.0.1 in c:\\users\\gjgut\\miniconda3\\lib\\site-packages (from matplotlib->fastai) (1.3.0)\n",
      "Requirement already satisfied: cycler>=0.10 in c:\\users\\gjgut\\miniconda3\\lib\\site-packages (from matplotlib->fastai) (0.12.1)\n",
      "Requirement already satisfied: fonttools>=4.22.0 in c:\\users\\gjgut\\miniconda3\\lib\\site-packages (from matplotlib->fastai) (4.54.1)\n",
      "Requirement already satisfied: kiwisolver>=1.3.1 in c:\\users\\gjgut\\miniconda3\\lib\\site-packages (from matplotlib->fastai) (1.4.7)\n",
      "Requirement already satisfied: pyparsing>=2.3.1 in c:\\users\\gjgut\\miniconda3\\lib\\site-packages (from matplotlib->fastai) (3.1.4)\n",
      "Requirement already satisfied: python-dateutil>=2.7 in c:\\users\\gjgut\\miniconda3\\lib\\site-packages (from matplotlib->fastai) (2.9.0.post0)\n",
      "Requirement already satisfied: pytz>=2020.1 in c:\\users\\gjgut\\miniconda3\\lib\\site-packages (from pandas->fastai) (2024.1)\n",
      "Requirement already satisfied: tzdata>=2022.7 in c:\\users\\gjgut\\miniconda3\\lib\\site-packages (from pandas->fastai) (2024.2)\n",
      "Requirement already satisfied: joblib>=1.2.0 in c:\\users\\gjgut\\miniconda3\\lib\\site-packages (from scikit-learn->fastai) (1.4.2)\n",
      "Requirement already satisfied: threadpoolctl>=3.1.0 in c:\\users\\gjgut\\miniconda3\\lib\\site-packages (from scikit-learn->fastai) (3.5.0)\n",
      "Requirement already satisfied: language-data>=1.2 in c:\\users\\gjgut\\miniconda3\\lib\\site-packages (from langcodes<4.0.0,>=3.2.0->spacy<4->fastai) (1.3.0)\n",
      "Requirement already satisfied: annotated-types>=0.6.0 in c:\\users\\gjgut\\miniconda3\\lib\\site-packages (from pydantic!=1.8,!=1.8.1,<3.0.0,>=1.7.4->spacy<4->fastai) (0.7.0)\n",
      "Requirement already satisfied: pydantic-core==2.27.1 in c:\\users\\gjgut\\miniconda3\\lib\\site-packages (from pydantic!=1.8,!=1.8.1,<3.0.0,>=1.7.4->spacy<4->fastai) (2.27.1)\n",
      "Requirement already satisfied: six>=1.5 in c:\\users\\gjgut\\miniconda3\\lib\\site-packages (from python-dateutil>=2.7->matplotlib->fastai) (1.16.0)\n",
      "Requirement already satisfied: blis<1.1.0,>=1.0.0 in c:\\users\\gjgut\\miniconda3\\lib\\site-packages (from thinc<8.4.0,>=8.3.0->spacy<4->fastai) (1.0.2)\n",
      "Requirement already satisfied: confection<1.0.0,>=0.0.1 in c:\\users\\gjgut\\miniconda3\\lib\\site-packages (from thinc<8.4.0,>=8.3.0->spacy<4->fastai) (0.1.5)\n",
      "Requirement already satisfied: colorama in c:\\users\\gjgut\\miniconda3\\lib\\site-packages (from tqdm<5.0.0,>=4.38.0->spacy<4->fastai) (0.4.6)\n",
      "Requirement already satisfied: click>=8.0.0 in c:\\users\\gjgut\\miniconda3\\lib\\site-packages (from typer<1.0.0,>=0.3.0->spacy<4->fastai) (8.1.7)\n",
      "Requirement already satisfied: shellingham>=1.3.0 in c:\\users\\gjgut\\miniconda3\\lib\\site-packages (from typer<1.0.0,>=0.3.0->spacy<4->fastai) (1.5.4)\n",
      "Requirement already satisfied: rich>=10.11.0 in c:\\users\\gjgut\\miniconda3\\lib\\site-packages (from typer<1.0.0,>=0.3.0->spacy<4->fastai) (13.9.4)\n",
      "Requirement already satisfied: cloudpathlib<1.0.0,>=0.7.0 in c:\\users\\gjgut\\miniconda3\\lib\\site-packages (from weasel<0.5.0,>=0.1.0->spacy<4->fastai) (0.20.0)\n",
      "Requirement already satisfied: smart-open<8.0.0,>=5.2.1 in c:\\users\\gjgut\\miniconda3\\lib\\site-packages (from weasel<0.5.0,>=0.1.0->spacy<4->fastai) (7.0.5)\n",
      "Requirement already satisfied: MarkupSafe>=2.0 in c:\\users\\gjgut\\miniconda3\\lib\\site-packages (from jinja2->spacy<4->fastai) (2.1.3)\n",
      "Requirement already satisfied: marisa-trie>=1.1.0 in c:\\users\\gjgut\\miniconda3\\lib\\site-packages (from language-data>=1.2->langcodes<4.0.0,>=3.2.0->spacy<4->fastai) (1.2.1)\n",
      "Requirement already satisfied: markdown-it-py>=2.2.0 in c:\\users\\gjgut\\miniconda3\\lib\\site-packages (from rich>=10.11.0->typer<1.0.0,>=0.3.0->spacy<4->fastai) (3.0.0)\n",
      "Requirement already satisfied: pygments<3.0.0,>=2.13.0 in c:\\users\\gjgut\\miniconda3\\lib\\site-packages (from rich>=10.11.0->typer<1.0.0,>=0.3.0->spacy<4->fastai) (2.15.1)\n",
      "Requirement already satisfied: wrapt in c:\\users\\gjgut\\miniconda3\\lib\\site-packages (from smart-open<8.0.0,>=5.2.1->weasel<0.5.0,>=0.1.0->spacy<4->fastai) (1.17.0)\n",
      "Requirement already satisfied: mdurl~=0.1 in c:\\users\\gjgut\\miniconda3\\lib\\site-packages (from markdown-it-py>=2.2.0->rich>=10.11.0->typer<1.0.0,>=0.3.0->spacy<4->fastai) (0.1.2)\n"
     ]
    }
   ],
   "source": [
    "!pip install fastai"
   ]
  },
  {
   "cell_type": "code",
   "execution_count": 2,
   "id": "e1dbdca5-1ac9-469d-ad14-7247a66d059b",
   "metadata": {},
   "outputs": [],
   "source": [
    "from fastai.data.external import untar_data, URLs\n",
    "from fastai.vision.all import *"
   ]
  },
  {
   "cell_type": "code",
   "execution_count": 3,
   "id": "f506b596-b084-4f9e-9e64-84dbe02f64d0",
   "metadata": {},
   "outputs": [],
   "source": [
    "path = untar_data(URLs.MNIST_SAMPLE)"
   ]
  },
  {
   "cell_type": "code",
   "execution_count": 4,
   "id": "e3c2c54d-6ded-4628-8dba-1ad7879213fe",
   "metadata": {},
   "outputs": [
    {
     "data": {
      "text/plain": [
       "(#3) [Path('C:/Users/gjgut/.fastai/data/mnist_sample/labels.csv'),Path('C:/Users/gjgut/.fastai/data/mnist_sample/train'),Path('C:/Users/gjgut/.fastai/data/mnist_sample/valid')]"
      ]
     },
     "execution_count": 4,
     "metadata": {},
     "output_type": "execute_result"
    }
   ],
   "source": [
    "path.ls()"
   ]
  },
  {
   "cell_type": "code",
   "execution_count": 5,
   "id": "553e1123-c22f-45e1-b1ac-745df32242c2",
   "metadata": {},
   "outputs": [
    {
     "name": "stdout",
     "output_type": "stream",
     "text": [
      "Name: fastai\n",
      "Version: 2.7.18\n",
      "Summary: fastai simplifies training fast and accurate neural nets using modern best practices\n",
      "Home-page: https://github.com/fastai/fastai\n",
      "Author: Jeremy Howard, Sylvain Gugger, and contributors\n",
      "Author-email: info@fast.ai\n",
      "License: Apache Software License 2.0\n",
      "Location: C:\\Users\\gjgut\\miniconda3\\Lib\\site-packages\n",
      "Requires: fastcore, fastdownload, fastprogress, matplotlib, packaging, pandas, pillow, pip, pyyaml, requests, scikit-learn, scipy, spacy, torch, torchvision\n",
      "Required-by: \n",
      "Note: you may need to restart the kernel to use updated packages.\n"
     ]
    }
   ],
   "source": [
    "pip show fastai"
   ]
  },
  {
   "cell_type": "code",
   "execution_count": 6,
   "id": "b96a5c45-06ee-4023-b2c2-37f9852fd989",
   "metadata": {},
   "outputs": [
    {
     "data": {
      "text/plain": [
       "(#2) [Path('C:/Users/gjgut/.fastai/data/mnist_sample/train/3'),Path('C:/Users/gjgut/.fastai/data/mnist_sample/train/7')]"
      ]
     },
     "execution_count": 6,
     "metadata": {},
     "output_type": "execute_result"
    }
   ],
   "source": [
    "(path/'train').ls()"
   ]
  },
  {
   "cell_type": "markdown",
   "id": "89707632-032e-4972-8f38-7fa80d529308",
   "metadata": {},
   "source": [
    "as we can see the folder has \"3\"s and \"7\"s which are the labels(or targets) in this dataset"
   ]
  },
  {
   "cell_type": "code",
   "execution_count": 7,
   "id": "ebc06b54-a54e-41e1-9fa3-4bf02e5ad441",
   "metadata": {},
   "outputs": [
    {
     "data": {
      "text/plain": [
       "(#6131) [Path('C:/Users/gjgut/.fastai/data/mnist_sample/train/3/10.png'),Path('C:/Users/gjgut/.fastai/data/mnist_sample/train/3/10000.png'),Path('C:/Users/gjgut/.fastai/data/mnist_sample/train/3/10011.png'),Path('C:/Users/gjgut/.fastai/data/mnist_sample/train/3/10031.png'),Path('C:/Users/gjgut/.fastai/data/mnist_sample/train/3/10034.png'),Path('C:/Users/gjgut/.fastai/data/mnist_sample/train/3/10042.png'),Path('C:/Users/gjgut/.fastai/data/mnist_sample/train/3/10052.png'),Path('C:/Users/gjgut/.fastai/data/mnist_sample/train/3/1007.png'),Path('C:/Users/gjgut/.fastai/data/mnist_sample/train/3/10074.png'),Path('C:/Users/gjgut/.fastai/data/mnist_sample/train/3/10091.png'),Path('C:/Users/gjgut/.fastai/data/mnist_sample/train/3/10093.png'),Path('C:/Users/gjgut/.fastai/data/mnist_sample/train/3/10097.png'),Path('C:/Users/gjgut/.fastai/data/mnist_sample/train/3/10099.png'),Path('C:/Users/gjgut/.fastai/data/mnist_sample/train/3/10116.png'),Path('C:/Users/gjgut/.fastai/data/mnist_sample/train/3/10125.png'),Path('C:/Users/gjgut/.fastai/data/mnist_sample/train/3/10137.png'),Path('C:/Users/gjgut/.fastai/data/mnist_sample/train/3/10141.png'),Path('C:/Users/gjgut/.fastai/data/mnist_sample/train/3/10144.png'),Path('C:/Users/gjgut/.fastai/data/mnist_sample/train/3/10155.png'),Path('C:/Users/gjgut/.fastai/data/mnist_sample/train/3/10161.png')...]"
      ]
     },
     "execution_count": 7,
     "metadata": {},
     "output_type": "execute_result"
    }
   ],
   "source": [
    "threes = (path/'train'/'3').ls().sorted()\n",
    "sevens = (path/'train'/'7').ls().sorted()\n",
    "threes"
   ]
  },
  {
   "cell_type": "code",
   "execution_count": 8,
   "id": "cde3d1db-d9b0-431e-937a-cc993773fe0c",
   "metadata": {},
   "outputs": [
    {
     "data": {
      "image/jpeg": "[encoded data removed]",
      "image/png": "[encoded data removed]",
      "text/plain": [
       "<PIL.PngImagePlugin.PngImageFile image mode=L size=28x28>"
      ]
     },
     "execution_count": 8,
     "metadata": {},
     "output_type": "execute_result"
    }
   ],
   "source": [
    "im3_path = threes[1]\n",
    "im3 = Image.open(im3_path)\n",
    "im3"
   ]
  },
  {
   "cell_type": "markdown",
   "id": "c824da64-7ff4-4b32-bdc9-0d99fa0a2d40",
   "metadata": {},
   "source": [
    "In a computer everything is represented as a number. To view the number that make up this image, we have to convert it to a NumPy array or a PyTorch tensor."
   ]
  },
  {
   "cell_type": "code",
   "execution_count": 9,
   "id": "2d7b8840-6c45-4711-9f53-673e10d83ca6",
   "metadata": {},
   "outputs": [
    {
     "data": {
      "text/plain": [
       "array([[  0,   0,   0,   0,   0,   0],\n",
       "       [  0,   0,   0,   0,   0,  29],\n",
       "       [  0,   0,   0,  48, 166, 224],\n",
       "       [  0,  93, 244, 249, 253, 187],\n",
       "       [  0, 107, 253, 253, 230,  48],\n",
       "       [  0,   3,  20,  20,  15,   0]], dtype=uint8)"
      ]
     },
     "execution_count": 9,
     "metadata": {},
     "output_type": "execute_result"
    }
   ],
   "source": [
    "array(im3)[4:10,4:10]"
   ]
  },
  {
   "cell_type": "markdown",
   "id": "50a2fc3b-4edb-42bc-9a76-14f700bb5a86",
   "metadata": {},
   "source": [
    "the 4:10 indicates we requested the rows from index 4(inclusive) to 10(noninclusive), and the same for the columns. NumPy indexes from top to bottom and from left to right so this section is located near the top left corner of the image. "
   ]
  },
  {
   "cell_type": "code",
   "execution_count": 10,
   "id": "5e530eef-46e6-498c-a23d-7585a06c033a",
   "metadata": {},
   "outputs": [
    {
     "data": {
      "text/plain": [
       "tensor([[  0,   0,   0,   0,   0,   0],\n",
       "        [  0,   0,   0,   0,   0,  29],\n",
       "        [  0,   0,   0,  48, 166, 224],\n",
       "        [  0,  93, 244, 249, 253, 187],\n",
       "        [  0, 107, 253, 253, 230,  48],\n",
       "        [  0,   3,  20,  20,  15,   0]], dtype=torch.uint8)"
      ]
     },
     "execution_count": 10,
     "metadata": {},
     "output_type": "execute_result"
    }
   ],
   "source": [
    "tensor(im3)[4:10,4:10]"
   ]
  },
  {
   "cell_type": "markdown",
   "id": "ff910ff1-51db-453f-9aa6-e189eafac20c",
   "metadata": {},
   "source": [
    "example of what pytorch sensor looks like"
   ]
  },
  {
   "cell_type": "code",
   "execution_count": 11,
   "id": "f952121e-c83e-4643-a9ed-934f020a0095",
   "metadata": {},
   "outputs": [
    {
     "data": {
      "text/html": [
       "<style type=\"text/css\">\n",
       "#T_020e4_row0_col0, #T_020e4_row0_col1, #T_020e4_row0_col2, #T_020e4_row0_col3, #T_020e4_row0_col4, #T_020e4_row0_col5, #T_020e4_row0_col6, #T_020e4_row0_col7, #T_020e4_row0_col8, #T_020e4_row0_col9, #T_020e4_row0_col10, #T_020e4_row0_col11, #T_020e4_row0_col12, #T_020e4_row0_col13, #T_020e4_row0_col14, #T_020e4_row0_col15, #T_020e4_row0_col16, #T_020e4_row0_col17, #T_020e4_row1_col0, #T_020e4_row1_col1, #T_020e4_row1_col2, #T_020e4_row1_col3, #T_020e4_row1_col4, #T_020e4_row1_col15, #T_020e4_row1_col16, #T_020e4_row1_col17, #T_020e4_row2_col0, #T_020e4_row2_col1, #T_020e4_row2_col2, #T_020e4_row2_col15, #T_020e4_row2_col16, #T_020e4_row2_col17, #T_020e4_row3_col0, #T_020e4_row3_col15, #T_020e4_row3_col16, #T_020e4_row3_col17, #T_020e4_row4_col0, #T_020e4_row4_col6, #T_020e4_row4_col7, #T_020e4_row4_col8, #T_020e4_row4_col9, #T_020e4_row4_col10, #T_020e4_row4_col15, #T_020e4_row4_col16, #T_020e4_row4_col17, #T_020e4_row5_col0, #T_020e4_row5_col5, #T_020e4_row5_col6, #T_020e4_row5_col7, #T_020e4_row5_col8, #T_020e4_row5_col9, #T_020e4_row5_col15, #T_020e4_row5_col16, #T_020e4_row5_col17, #T_020e4_row6_col0, #T_020e4_row6_col1, #T_020e4_row6_col2, #T_020e4_row6_col3, #T_020e4_row6_col4, #T_020e4_row6_col5, #T_020e4_row6_col6, #T_020e4_row6_col7, #T_020e4_row6_col8, #T_020e4_row6_col9, #T_020e4_row6_col14, #T_020e4_row6_col15, #T_020e4_row6_col16, #T_020e4_row6_col17, #T_020e4_row7_col0, #T_020e4_row7_col1, #T_020e4_row7_col2, #T_020e4_row7_col3, #T_020e4_row7_col4, #T_020e4_row7_col5, #T_020e4_row7_col6, #T_020e4_row7_col13, #T_020e4_row7_col14, #T_020e4_row7_col15, #T_020e4_row7_col16, #T_020e4_row7_col17, #T_020e4_row8_col0, #T_020e4_row8_col1, #T_020e4_row8_col2, #T_020e4_row8_col3, #T_020e4_row8_col4, #T_020e4_row8_col13, #T_020e4_row8_col14, #T_020e4_row8_col15, #T_020e4_row8_col16, #T_020e4_row8_col17, #T_020e4_row9_col0, #T_020e4_row9_col1, #T_020e4_row9_col2, #T_020e4_row9_col3, #T_020e4_row9_col4, #T_020e4_row9_col16, #T_020e4_row9_col17, #T_020e4_row10_col0, #T_020e4_row10_col1, #T_020e4_row10_col2, #T_020e4_row10_col3, #T_020e4_row10_col4, #T_020e4_row10_col5, #T_020e4_row10_col6, #T_020e4_row10_col17 {\n",
       "  font-size: 6pt;\n",
       "  background-color: #ffffff;\n",
       "  color: #000000;\n",
       "}\n",
       "#T_020e4_row1_col5 {\n",
       "  font-size: 6pt;\n",
       "  background-color: #efefef;\n",
       "  color: #000000;\n",
       "}\n",
       "#T_020e4_row1_col6, #T_020e4_row1_col13 {\n",
       "  font-size: 6pt;\n",
       "  background-color: #7c7c7c;\n",
       "  color: #f1f1f1;\n",
       "}\n",
       "#T_020e4_row1_col7 {\n",
       "  font-size: 6pt;\n",
       "  background-color: #4a4a4a;\n",
       "  color: #f1f1f1;\n",
       "}\n",
       "#T_020e4_row1_col8, #T_020e4_row1_col9, #T_020e4_row1_col10, #T_020e4_row2_col5, #T_020e4_row2_col6, #T_020e4_row2_col7, #T_020e4_row2_col11, #T_020e4_row2_col12, #T_020e4_row2_col13, #T_020e4_row3_col4, #T_020e4_row3_col12, #T_020e4_row3_col13, #T_020e4_row4_col1, #T_020e4_row4_col2, #T_020e4_row4_col3, #T_020e4_row4_col12, #T_020e4_row4_col13, #T_020e4_row5_col12, #T_020e4_row6_col11, #T_020e4_row9_col11, #T_020e4_row10_col11, #T_020e4_row10_col12, #T_020e4_row10_col13, #T_020e4_row10_col14, #T_020e4_row10_col15, #T_020e4_row10_col16 {\n",
       "  font-size: 6pt;\n",
       "  background-color: #000000;\n",
       "  color: #f1f1f1;\n",
       "}\n",
       "#T_020e4_row1_col11 {\n",
       "  font-size: 6pt;\n",
       "  background-color: #606060;\n",
       "  color: #f1f1f1;\n",
       "}\n",
       "#T_020e4_row1_col12 {\n",
       "  font-size: 6pt;\n",
       "  background-color: #4d4d4d;\n",
       "  color: #f1f1f1;\n",
       "}\n",
       "#T_020e4_row1_col14 {\n",
       "  font-size: 6pt;\n",
       "  background-color: #bbbbbb;\n",
       "  color: #000000;\n",
       "}\n",
       "#T_020e4_row2_col3 {\n",
       "  font-size: 6pt;\n",
       "  background-color: #e4e4e4;\n",
       "  color: #000000;\n",
       "}\n",
       "#T_020e4_row2_col4, #T_020e4_row8_col6 {\n",
       "  font-size: 6pt;\n",
       "  background-color: #6b6b6b;\n",
       "  color: #f1f1f1;\n",
       "}\n",
       "#T_020e4_row2_col8, #T_020e4_row2_col14, #T_020e4_row3_col14 {\n",
       "  font-size: 6pt;\n",
       "  background-color: #171717;\n",
       "  color: #f1f1f1;\n",
       "}\n",
       "#T_020e4_row2_col9, #T_020e4_row3_col11 {\n",
       "  font-size: 6pt;\n",
       "  background-color: #4b4b4b;\n",
       "  color: #f1f1f1;\n",
       "}\n",
       "#T_020e4_row2_col10, #T_020e4_row7_col10, #T_020e4_row8_col8, #T_020e4_row8_col10, #T_020e4_row9_col8, #T_020e4_row9_col10 {\n",
       "  font-size: 6pt;\n",
       "  background-color: #010101;\n",
       "  color: #f1f1f1;\n",
       "}\n",
       "#T_020e4_row3_col1 {\n",
       "  font-size: 6pt;\n",
       "  background-color: #272727;\n",
       "  color: #f1f1f1;\n",
       "}\n",
       "#T_020e4_row3_col2 {\n",
       "  font-size: 6pt;\n",
       "  background-color: #0a0a0a;\n",
       "  color: #f1f1f1;\n",
       "}\n",
       "#T_020e4_row3_col3 {\n",
       "  font-size: 6pt;\n",
       "  background-color: #050505;\n",
       "  color: #f1f1f1;\n",
       "}\n",
       "#T_020e4_row3_col5 {\n",
       "  font-size: 6pt;\n",
       "  background-color: #333333;\n",
       "  color: #f1f1f1;\n",
       "}\n",
       "#T_020e4_row3_col6 {\n",
       "  font-size: 6pt;\n",
       "  background-color: #e6e6e6;\n",
       "  color: #000000;\n",
       "}\n",
       "#T_020e4_row3_col7, #T_020e4_row3_col10 {\n",
       "  font-size: 6pt;\n",
       "  background-color: #fafafa;\n",
       "  color: #000000;\n",
       "}\n",
       "#T_020e4_row3_col8 {\n",
       "  font-size: 6pt;\n",
       "  background-color: #fbfbfb;\n",
       "  color: #000000;\n",
       "}\n",
       "#T_020e4_row3_col9 {\n",
       "  font-size: 6pt;\n",
       "  background-color: #fdfdfd;\n",
       "  color: #000000;\n",
       "}\n",
       "#T_020e4_row4_col4 {\n",
       "  font-size: 6pt;\n",
       "  background-color: #1b1b1b;\n",
       "  color: #f1f1f1;\n",
       "}\n",
       "#T_020e4_row4_col5 {\n",
       "  font-size: 6pt;\n",
       "  background-color: #e0e0e0;\n",
       "  color: #000000;\n",
       "}\n",
       "#T_020e4_row4_col11 {\n",
       "  font-size: 6pt;\n",
       "  background-color: #4e4e4e;\n",
       "  color: #f1f1f1;\n",
       "}\n",
       "#T_020e4_row4_col14 {\n",
       "  font-size: 6pt;\n",
       "  background-color: #767676;\n",
       "  color: #f1f1f1;\n",
       "}\n",
       "#T_020e4_row5_col1 {\n",
       "  font-size: 6pt;\n",
       "  background-color: #fcfcfc;\n",
       "  color: #000000;\n",
       "}\n",
       "#T_020e4_row5_col2, #T_020e4_row5_col3 {\n",
       "  font-size: 6pt;\n",
       "  background-color: #f6f6f6;\n",
       "  color: #000000;\n",
       "}\n",
       "#T_020e4_row5_col4, #T_020e4_row7_col7 {\n",
       "  font-size: 6pt;\n",
       "  background-color: #f8f8f8;\n",
       "  color: #000000;\n",
       "}\n",
       "#T_020e4_row5_col10, #T_020e4_row10_col7 {\n",
       "  font-size: 6pt;\n",
       "  background-color: #e8e8e8;\n",
       "  color: #000000;\n",
       "}\n",
       "#T_020e4_row5_col11 {\n",
       "  font-size: 6pt;\n",
       "  background-color: #222222;\n",
       "  color: #f1f1f1;\n",
       "}\n",
       "#T_020e4_row5_col13, #T_020e4_row6_col12 {\n",
       "  font-size: 6pt;\n",
       "  background-color: #090909;\n",
       "  color: #f1f1f1;\n",
       "}\n",
       "#T_020e4_row5_col14 {\n",
       "  font-size: 6pt;\n",
       "  background-color: #d0d0d0;\n",
       "  color: #000000;\n",
       "}\n",
       "#T_020e4_row6_col10, #T_020e4_row7_col11, #T_020e4_row9_col6 {\n",
       "  font-size: 6pt;\n",
       "  background-color: #060606;\n",
       "  color: #f1f1f1;\n",
       "}\n",
       "#T_020e4_row6_col13 {\n",
       "  font-size: 6pt;\n",
       "  background-color: #979797;\n",
       "  color: #f1f1f1;\n",
       "}\n",
       "#T_020e4_row7_col8 {\n",
       "  font-size: 6pt;\n",
       "  background-color: #b6b6b6;\n",
       "  color: #000000;\n",
       "}\n",
       "#T_020e4_row7_col9 {\n",
       "  font-size: 6pt;\n",
       "  background-color: #252525;\n",
       "  color: #f1f1f1;\n",
       "}\n",
       "#T_020e4_row7_col12 {\n",
       "  font-size: 6pt;\n",
       "  background-color: #999999;\n",
       "  color: #f1f1f1;\n",
       "}\n",
       "#T_020e4_row8_col5 {\n",
       "  font-size: 6pt;\n",
       "  background-color: #f9f9f9;\n",
       "  color: #000000;\n",
       "}\n",
       "#T_020e4_row8_col7 {\n",
       "  font-size: 6pt;\n",
       "  background-color: #101010;\n",
       "  color: #f1f1f1;\n",
       "}\n",
       "#T_020e4_row8_col9, #T_020e4_row9_col9 {\n",
       "  font-size: 6pt;\n",
       "  background-color: #020202;\n",
       "  color: #f1f1f1;\n",
       "}\n",
       "#T_020e4_row8_col11 {\n",
       "  font-size: 6pt;\n",
       "  background-color: #545454;\n",
       "  color: #f1f1f1;\n",
       "}\n",
       "#T_020e4_row8_col12 {\n",
       "  font-size: 6pt;\n",
       "  background-color: #f1f1f1;\n",
       "  color: #000000;\n",
       "}\n",
       "#T_020e4_row9_col5 {\n",
       "  font-size: 6pt;\n",
       "  background-color: #f7f7f7;\n",
       "  color: #000000;\n",
       "}\n",
       "#T_020e4_row9_col7 {\n",
       "  font-size: 6pt;\n",
       "  background-color: #030303;\n",
       "  color: #f1f1f1;\n",
       "}\n",
       "#T_020e4_row9_col12 {\n",
       "  font-size: 6pt;\n",
       "  background-color: #181818;\n",
       "  color: #f1f1f1;\n",
       "}\n",
       "#T_020e4_row9_col13 {\n",
       "  font-size: 6pt;\n",
       "  background-color: #303030;\n",
       "  color: #f1f1f1;\n",
       "}\n",
       "#T_020e4_row9_col14 {\n",
       "  font-size: 6pt;\n",
       "  background-color: #a9a9a9;\n",
       "  color: #f1f1f1;\n",
       "}\n",
       "#T_020e4_row9_col15 {\n",
       "  font-size: 6pt;\n",
       "  background-color: #fefefe;\n",
       "  color: #000000;\n",
       "}\n",
       "#T_020e4_row10_col8, #T_020e4_row10_col9 {\n",
       "  font-size: 6pt;\n",
       "  background-color: #bababa;\n",
       "  color: #000000;\n",
       "}\n",
       "#T_020e4_row10_col10 {\n",
       "  font-size: 6pt;\n",
       "  background-color: #393939;\n",
       "  color: #f1f1f1;\n",
       "}\n",
       "</style>\n",
       "<table id=\"T_020e4\">\n",
       "  <thead>\n",
       "    <tr>\n",
       "      <th class=\"blank level0\" >&nbsp;</th>\n",
       "      <th id=\"T_020e4_level0_col0\" class=\"col_heading level0 col0\" >0</th>\n",
       "      <th id=\"T_020e4_level0_col1\" class=\"col_heading level0 col1\" >1</th>\n",
       "      <th id=\"T_020e4_level0_col2\" class=\"col_heading level0 col2\" >2</th>\n",
       "      <th id=\"T_020e4_level0_col3\" class=\"col_heading level0 col3\" >3</th>\n",
       "      <th id=\"T_020e4_level0_col4\" class=\"col_heading level0 col4\" >4</th>\n",
       "      <th id=\"T_020e4_level0_col5\" class=\"col_heading level0 col5\" >5</th>\n",
       "      <th id=\"T_020e4_level0_col6\" class=\"col_heading level0 col6\" >6</th>\n",
       "      <th id=\"T_020e4_level0_col7\" class=\"col_heading level0 col7\" >7</th>\n",
       "      <th id=\"T_020e4_level0_col8\" class=\"col_heading level0 col8\" >8</th>\n",
       "      <th id=\"T_020e4_level0_col9\" class=\"col_heading level0 col9\" >9</th>\n",
       "      <th id=\"T_020e4_level0_col10\" class=\"col_heading level0 col10\" >10</th>\n",
       "      <th id=\"T_020e4_level0_col11\" class=\"col_heading level0 col11\" >11</th>\n",
       "      <th id=\"T_020e4_level0_col12\" class=\"col_heading level0 col12\" >12</th>\n",
       "      <th id=\"T_020e4_level0_col13\" class=\"col_heading level0 col13\" >13</th>\n",
       "      <th id=\"T_020e4_level0_col14\" class=\"col_heading level0 col14\" >14</th>\n",
       "      <th id=\"T_020e4_level0_col15\" class=\"col_heading level0 col15\" >15</th>\n",
       "      <th id=\"T_020e4_level0_col16\" class=\"col_heading level0 col16\" >16</th>\n",
       "      <th id=\"T_020e4_level0_col17\" class=\"col_heading level0 col17\" >17</th>\n",
       "    </tr>\n",
       "  </thead>\n",
       "  <tbody>\n",
       "    <tr>\n",
       "      <th id=\"T_020e4_level0_row0\" class=\"row_heading level0 row0\" >0</th>\n",
       "      <td id=\"T_020e4_row0_col0\" class=\"data row0 col0\" >0</td>\n",
       "      <td id=\"T_020e4_row0_col1\" class=\"data row0 col1\" >0</td>\n",
       "      <td id=\"T_020e4_row0_col2\" class=\"data row0 col2\" >0</td>\n",
       "      <td id=\"T_020e4_row0_col3\" class=\"data row0 col3\" >0</td>\n",
       "      <td id=\"T_020e4_row0_col4\" class=\"data row0 col4\" >0</td>\n",
       "      <td id=\"T_020e4_row0_col5\" class=\"data row0 col5\" >0</td>\n",
       "      <td id=\"T_020e4_row0_col6\" class=\"data row0 col6\" >0</td>\n",
       "      <td id=\"T_020e4_row0_col7\" class=\"data row0 col7\" >0</td>\n",
       "      <td id=\"T_020e4_row0_col8\" class=\"data row0 col8\" >0</td>\n",
       "      <td id=\"T_020e4_row0_col9\" class=\"data row0 col9\" >0</td>\n",
       "      <td id=\"T_020e4_row0_col10\" class=\"data row0 col10\" >0</td>\n",
       "      <td id=\"T_020e4_row0_col11\" class=\"data row0 col11\" >0</td>\n",
       "      <td id=\"T_020e4_row0_col12\" class=\"data row0 col12\" >0</td>\n",
       "      <td id=\"T_020e4_row0_col13\" class=\"data row0 col13\" >0</td>\n",
       "      <td id=\"T_020e4_row0_col14\" class=\"data row0 col14\" >0</td>\n",
       "      <td id=\"T_020e4_row0_col15\" class=\"data row0 col15\" >0</td>\n",
       "      <td id=\"T_020e4_row0_col16\" class=\"data row0 col16\" >0</td>\n",
       "      <td id=\"T_020e4_row0_col17\" class=\"data row0 col17\" >0</td>\n",
       "    </tr>\n",
       "    <tr>\n",
       "      <th id=\"T_020e4_level0_row1\" class=\"row_heading level0 row1\" >1</th>\n",
       "      <td id=\"T_020e4_row1_col0\" class=\"data row1 col0\" >0</td>\n",
       "      <td id=\"T_020e4_row1_col1\" class=\"data row1 col1\" >0</td>\n",
       "      <td id=\"T_020e4_row1_col2\" class=\"data row1 col2\" >0</td>\n",
       "      <td id=\"T_020e4_row1_col3\" class=\"data row1 col3\" >0</td>\n",
       "      <td id=\"T_020e4_row1_col4\" class=\"data row1 col4\" >0</td>\n",
       "      <td id=\"T_020e4_row1_col5\" class=\"data row1 col5\" >29</td>\n",
       "      <td id=\"T_020e4_row1_col6\" class=\"data row1 col6\" >150</td>\n",
       "      <td id=\"T_020e4_row1_col7\" class=\"data row1 col7\" >195</td>\n",
       "      <td id=\"T_020e4_row1_col8\" class=\"data row1 col8\" >254</td>\n",
       "      <td id=\"T_020e4_row1_col9\" class=\"data row1 col9\" >255</td>\n",
       "      <td id=\"T_020e4_row1_col10\" class=\"data row1 col10\" >254</td>\n",
       "      <td id=\"T_020e4_row1_col11\" class=\"data row1 col11\" >176</td>\n",
       "      <td id=\"T_020e4_row1_col12\" class=\"data row1 col12\" >193</td>\n",
       "      <td id=\"T_020e4_row1_col13\" class=\"data row1 col13\" >150</td>\n",
       "      <td id=\"T_020e4_row1_col14\" class=\"data row1 col14\" >96</td>\n",
       "      <td id=\"T_020e4_row1_col15\" class=\"data row1 col15\" >0</td>\n",
       "      <td id=\"T_020e4_row1_col16\" class=\"data row1 col16\" >0</td>\n",
       "      <td id=\"T_020e4_row1_col17\" class=\"data row1 col17\" >0</td>\n",
       "    </tr>\n",
       "    <tr>\n",
       "      <th id=\"T_020e4_level0_row2\" class=\"row_heading level0 row2\" >2</th>\n",
       "      <td id=\"T_020e4_row2_col0\" class=\"data row2 col0\" >0</td>\n",
       "      <td id=\"T_020e4_row2_col1\" class=\"data row2 col1\" >0</td>\n",
       "      <td id=\"T_020e4_row2_col2\" class=\"data row2 col2\" >0</td>\n",
       "      <td id=\"T_020e4_row2_col3\" class=\"data row2 col3\" >48</td>\n",
       "      <td id=\"T_020e4_row2_col4\" class=\"data row2 col4\" >166</td>\n",
       "      <td id=\"T_020e4_row2_col5\" class=\"data row2 col5\" >224</td>\n",
       "      <td id=\"T_020e4_row2_col6\" class=\"data row2 col6\" >253</td>\n",
       "      <td id=\"T_020e4_row2_col7\" class=\"data row2 col7\" >253</td>\n",
       "      <td id=\"T_020e4_row2_col8\" class=\"data row2 col8\" >234</td>\n",
       "      <td id=\"T_020e4_row2_col9\" class=\"data row2 col9\" >196</td>\n",
       "      <td id=\"T_020e4_row2_col10\" class=\"data row2 col10\" >253</td>\n",
       "      <td id=\"T_020e4_row2_col11\" class=\"data row2 col11\" >253</td>\n",
       "      <td id=\"T_020e4_row2_col12\" class=\"data row2 col12\" >253</td>\n",
       "      <td id=\"T_020e4_row2_col13\" class=\"data row2 col13\" >253</td>\n",
       "      <td id=\"T_020e4_row2_col14\" class=\"data row2 col14\" >233</td>\n",
       "      <td id=\"T_020e4_row2_col15\" class=\"data row2 col15\" >0</td>\n",
       "      <td id=\"T_020e4_row2_col16\" class=\"data row2 col16\" >0</td>\n",
       "      <td id=\"T_020e4_row2_col17\" class=\"data row2 col17\" >0</td>\n",
       "    </tr>\n",
       "    <tr>\n",
       "      <th id=\"T_020e4_level0_row3\" class=\"row_heading level0 row3\" >3</th>\n",
       "      <td id=\"T_020e4_row3_col0\" class=\"data row3 col0\" >0</td>\n",
       "      <td id=\"T_020e4_row3_col1\" class=\"data row3 col1\" >93</td>\n",
       "      <td id=\"T_020e4_row3_col2\" class=\"data row3 col2\" >244</td>\n",
       "      <td id=\"T_020e4_row3_col3\" class=\"data row3 col3\" >249</td>\n",
       "      <td id=\"T_020e4_row3_col4\" class=\"data row3 col4\" >253</td>\n",
       "      <td id=\"T_020e4_row3_col5\" class=\"data row3 col5\" >187</td>\n",
       "      <td id=\"T_020e4_row3_col6\" class=\"data row3 col6\" >46</td>\n",
       "      <td id=\"T_020e4_row3_col7\" class=\"data row3 col7\" >10</td>\n",
       "      <td id=\"T_020e4_row3_col8\" class=\"data row3 col8\" >8</td>\n",
       "      <td id=\"T_020e4_row3_col9\" class=\"data row3 col9\" >4</td>\n",
       "      <td id=\"T_020e4_row3_col10\" class=\"data row3 col10\" >10</td>\n",
       "      <td id=\"T_020e4_row3_col11\" class=\"data row3 col11\" >194</td>\n",
       "      <td id=\"T_020e4_row3_col12\" class=\"data row3 col12\" >253</td>\n",
       "      <td id=\"T_020e4_row3_col13\" class=\"data row3 col13\" >253</td>\n",
       "      <td id=\"T_020e4_row3_col14\" class=\"data row3 col14\" >233</td>\n",
       "      <td id=\"T_020e4_row3_col15\" class=\"data row3 col15\" >0</td>\n",
       "      <td id=\"T_020e4_row3_col16\" class=\"data row3 col16\" >0</td>\n",
       "      <td id=\"T_020e4_row3_col17\" class=\"data row3 col17\" >0</td>\n",
       "    </tr>\n",
       "    <tr>\n",
       "      <th id=\"T_020e4_level0_row4\" class=\"row_heading level0 row4\" >4</th>\n",
       "      <td id=\"T_020e4_row4_col0\" class=\"data row4 col0\" >0</td>\n",
       "      <td id=\"T_020e4_row4_col1\" class=\"data row4 col1\" >107</td>\n",
       "      <td id=\"T_020e4_row4_col2\" class=\"data row4 col2\" >253</td>\n",
       "      <td id=\"T_020e4_row4_col3\" class=\"data row4 col3\" >253</td>\n",
       "      <td id=\"T_020e4_row4_col4\" class=\"data row4 col4\" >230</td>\n",
       "      <td id=\"T_020e4_row4_col5\" class=\"data row4 col5\" >48</td>\n",
       "      <td id=\"T_020e4_row4_col6\" class=\"data row4 col6\" >0</td>\n",
       "      <td id=\"T_020e4_row4_col7\" class=\"data row4 col7\" >0</td>\n",
       "      <td id=\"T_020e4_row4_col8\" class=\"data row4 col8\" >0</td>\n",
       "      <td id=\"T_020e4_row4_col9\" class=\"data row4 col9\" >0</td>\n",
       "      <td id=\"T_020e4_row4_col10\" class=\"data row4 col10\" >0</td>\n",
       "      <td id=\"T_020e4_row4_col11\" class=\"data row4 col11\" >192</td>\n",
       "      <td id=\"T_020e4_row4_col12\" class=\"data row4 col12\" >253</td>\n",
       "      <td id=\"T_020e4_row4_col13\" class=\"data row4 col13\" >253</td>\n",
       "      <td id=\"T_020e4_row4_col14\" class=\"data row4 col14\" >156</td>\n",
       "      <td id=\"T_020e4_row4_col15\" class=\"data row4 col15\" >0</td>\n",
       "      <td id=\"T_020e4_row4_col16\" class=\"data row4 col16\" >0</td>\n",
       "      <td id=\"T_020e4_row4_col17\" class=\"data row4 col17\" >0</td>\n",
       "    </tr>\n",
       "    <tr>\n",
       "      <th id=\"T_020e4_level0_row5\" class=\"row_heading level0 row5\" >5</th>\n",
       "      <td id=\"T_020e4_row5_col0\" class=\"data row5 col0\" >0</td>\n",
       "      <td id=\"T_020e4_row5_col1\" class=\"data row5 col1\" >3</td>\n",
       "      <td id=\"T_020e4_row5_col2\" class=\"data row5 col2\" >20</td>\n",
       "      <td id=\"T_020e4_row5_col3\" class=\"data row5 col3\" >20</td>\n",
       "      <td id=\"T_020e4_row5_col4\" class=\"data row5 col4\" >15</td>\n",
       "      <td id=\"T_020e4_row5_col5\" class=\"data row5 col5\" >0</td>\n",
       "      <td id=\"T_020e4_row5_col6\" class=\"data row5 col6\" >0</td>\n",
       "      <td id=\"T_020e4_row5_col7\" class=\"data row5 col7\" >0</td>\n",
       "      <td id=\"T_020e4_row5_col8\" class=\"data row5 col8\" >0</td>\n",
       "      <td id=\"T_020e4_row5_col9\" class=\"data row5 col9\" >0</td>\n",
       "      <td id=\"T_020e4_row5_col10\" class=\"data row5 col10\" >43</td>\n",
       "      <td id=\"T_020e4_row5_col11\" class=\"data row5 col11\" >224</td>\n",
       "      <td id=\"T_020e4_row5_col12\" class=\"data row5 col12\" >253</td>\n",
       "      <td id=\"T_020e4_row5_col13\" class=\"data row5 col13\" >245</td>\n",
       "      <td id=\"T_020e4_row5_col14\" class=\"data row5 col14\" >74</td>\n",
       "      <td id=\"T_020e4_row5_col15\" class=\"data row5 col15\" >0</td>\n",
       "      <td id=\"T_020e4_row5_col16\" class=\"data row5 col16\" >0</td>\n",
       "      <td id=\"T_020e4_row5_col17\" class=\"data row5 col17\" >0</td>\n",
       "    </tr>\n",
       "    <tr>\n",
       "      <th id=\"T_020e4_level0_row6\" class=\"row_heading level0 row6\" >6</th>\n",
       "      <td id=\"T_020e4_row6_col0\" class=\"data row6 col0\" >0</td>\n",
       "      <td id=\"T_020e4_row6_col1\" class=\"data row6 col1\" >0</td>\n",
       "      <td id=\"T_020e4_row6_col2\" class=\"data row6 col2\" >0</td>\n",
       "      <td id=\"T_020e4_row6_col3\" class=\"data row6 col3\" >0</td>\n",
       "      <td id=\"T_020e4_row6_col4\" class=\"data row6 col4\" >0</td>\n",
       "      <td id=\"T_020e4_row6_col5\" class=\"data row6 col5\" >0</td>\n",
       "      <td id=\"T_020e4_row6_col6\" class=\"data row6 col6\" >0</td>\n",
       "      <td id=\"T_020e4_row6_col7\" class=\"data row6 col7\" >0</td>\n",
       "      <td id=\"T_020e4_row6_col8\" class=\"data row6 col8\" >0</td>\n",
       "      <td id=\"T_020e4_row6_col9\" class=\"data row6 col9\" >0</td>\n",
       "      <td id=\"T_020e4_row6_col10\" class=\"data row6 col10\" >249</td>\n",
       "      <td id=\"T_020e4_row6_col11\" class=\"data row6 col11\" >253</td>\n",
       "      <td id=\"T_020e4_row6_col12\" class=\"data row6 col12\" >245</td>\n",
       "      <td id=\"T_020e4_row6_col13\" class=\"data row6 col13\" >126</td>\n",
       "      <td id=\"T_020e4_row6_col14\" class=\"data row6 col14\" >0</td>\n",
       "      <td id=\"T_020e4_row6_col15\" class=\"data row6 col15\" >0</td>\n",
       "      <td id=\"T_020e4_row6_col16\" class=\"data row6 col16\" >0</td>\n",
       "      <td id=\"T_020e4_row6_col17\" class=\"data row6 col17\" >0</td>\n",
       "    </tr>\n",
       "    <tr>\n",
       "      <th id=\"T_020e4_level0_row7\" class=\"row_heading level0 row7\" >7</th>\n",
       "      <td id=\"T_020e4_row7_col0\" class=\"data row7 col0\" >0</td>\n",
       "      <td id=\"T_020e4_row7_col1\" class=\"data row7 col1\" >0</td>\n",
       "      <td id=\"T_020e4_row7_col2\" class=\"data row7 col2\" >0</td>\n",
       "      <td id=\"T_020e4_row7_col3\" class=\"data row7 col3\" >0</td>\n",
       "      <td id=\"T_020e4_row7_col4\" class=\"data row7 col4\" >0</td>\n",
       "      <td id=\"T_020e4_row7_col5\" class=\"data row7 col5\" >0</td>\n",
       "      <td id=\"T_020e4_row7_col6\" class=\"data row7 col6\" >0</td>\n",
       "      <td id=\"T_020e4_row7_col7\" class=\"data row7 col7\" >14</td>\n",
       "      <td id=\"T_020e4_row7_col8\" class=\"data row7 col8\" >101</td>\n",
       "      <td id=\"T_020e4_row7_col9\" class=\"data row7 col9\" >223</td>\n",
       "      <td id=\"T_020e4_row7_col10\" class=\"data row7 col10\" >253</td>\n",
       "      <td id=\"T_020e4_row7_col11\" class=\"data row7 col11\" >248</td>\n",
       "      <td id=\"T_020e4_row7_col12\" class=\"data row7 col12\" >124</td>\n",
       "      <td id=\"T_020e4_row7_col13\" class=\"data row7 col13\" >0</td>\n",
       "      <td id=\"T_020e4_row7_col14\" class=\"data row7 col14\" >0</td>\n",
       "      <td id=\"T_020e4_row7_col15\" class=\"data row7 col15\" >0</td>\n",
       "      <td id=\"T_020e4_row7_col16\" class=\"data row7 col16\" >0</td>\n",
       "      <td id=\"T_020e4_row7_col17\" class=\"data row7 col17\" >0</td>\n",
       "    </tr>\n",
       "    <tr>\n",
       "      <th id=\"T_020e4_level0_row8\" class=\"row_heading level0 row8\" >8</th>\n",
       "      <td id=\"T_020e4_row8_col0\" class=\"data row8 col0\" >0</td>\n",
       "      <td id=\"T_020e4_row8_col1\" class=\"data row8 col1\" >0</td>\n",
       "      <td id=\"T_020e4_row8_col2\" class=\"data row8 col2\" >0</td>\n",
       "      <td id=\"T_020e4_row8_col3\" class=\"data row8 col3\" >0</td>\n",
       "      <td id=\"T_020e4_row8_col4\" class=\"data row8 col4\" >0</td>\n",
       "      <td id=\"T_020e4_row8_col5\" class=\"data row8 col5\" >11</td>\n",
       "      <td id=\"T_020e4_row8_col6\" class=\"data row8 col6\" >166</td>\n",
       "      <td id=\"T_020e4_row8_col7\" class=\"data row8 col7\" >239</td>\n",
       "      <td id=\"T_020e4_row8_col8\" class=\"data row8 col8\" >253</td>\n",
       "      <td id=\"T_020e4_row8_col9\" class=\"data row8 col9\" >253</td>\n",
       "      <td id=\"T_020e4_row8_col10\" class=\"data row8 col10\" >253</td>\n",
       "      <td id=\"T_020e4_row8_col11\" class=\"data row8 col11\" >187</td>\n",
       "      <td id=\"T_020e4_row8_col12\" class=\"data row8 col12\" >30</td>\n",
       "      <td id=\"T_020e4_row8_col13\" class=\"data row8 col13\" >0</td>\n",
       "      <td id=\"T_020e4_row8_col14\" class=\"data row8 col14\" >0</td>\n",
       "      <td id=\"T_020e4_row8_col15\" class=\"data row8 col15\" >0</td>\n",
       "      <td id=\"T_020e4_row8_col16\" class=\"data row8 col16\" >0</td>\n",
       "      <td id=\"T_020e4_row8_col17\" class=\"data row8 col17\" >0</td>\n",
       "    </tr>\n",
       "    <tr>\n",
       "      <th id=\"T_020e4_level0_row9\" class=\"row_heading level0 row9\" >9</th>\n",
       "      <td id=\"T_020e4_row9_col0\" class=\"data row9 col0\" >0</td>\n",
       "      <td id=\"T_020e4_row9_col1\" class=\"data row9 col1\" >0</td>\n",
       "      <td id=\"T_020e4_row9_col2\" class=\"data row9 col2\" >0</td>\n",
       "      <td id=\"T_020e4_row9_col3\" class=\"data row9 col3\" >0</td>\n",
       "      <td id=\"T_020e4_row9_col4\" class=\"data row9 col4\" >0</td>\n",
       "      <td id=\"T_020e4_row9_col5\" class=\"data row9 col5\" >16</td>\n",
       "      <td id=\"T_020e4_row9_col6\" class=\"data row9 col6\" >248</td>\n",
       "      <td id=\"T_020e4_row9_col7\" class=\"data row9 col7\" >250</td>\n",
       "      <td id=\"T_020e4_row9_col8\" class=\"data row9 col8\" >253</td>\n",
       "      <td id=\"T_020e4_row9_col9\" class=\"data row9 col9\" >253</td>\n",
       "      <td id=\"T_020e4_row9_col10\" class=\"data row9 col10\" >253</td>\n",
       "      <td id=\"T_020e4_row9_col11\" class=\"data row9 col11\" >253</td>\n",
       "      <td id=\"T_020e4_row9_col12\" class=\"data row9 col12\" >232</td>\n",
       "      <td id=\"T_020e4_row9_col13\" class=\"data row9 col13\" >213</td>\n",
       "      <td id=\"T_020e4_row9_col14\" class=\"data row9 col14\" >111</td>\n",
       "      <td id=\"T_020e4_row9_col15\" class=\"data row9 col15\" >2</td>\n",
       "      <td id=\"T_020e4_row9_col16\" class=\"data row9 col16\" >0</td>\n",
       "      <td id=\"T_020e4_row9_col17\" class=\"data row9 col17\" >0</td>\n",
       "    </tr>\n",
       "    <tr>\n",
       "      <th id=\"T_020e4_level0_row10\" class=\"row_heading level0 row10\" >10</th>\n",
       "      <td id=\"T_020e4_row10_col0\" class=\"data row10 col0\" >0</td>\n",
       "      <td id=\"T_020e4_row10_col1\" class=\"data row10 col1\" >0</td>\n",
       "      <td id=\"T_020e4_row10_col2\" class=\"data row10 col2\" >0</td>\n",
       "      <td id=\"T_020e4_row10_col3\" class=\"data row10 col3\" >0</td>\n",
       "      <td id=\"T_020e4_row10_col4\" class=\"data row10 col4\" >0</td>\n",
       "      <td id=\"T_020e4_row10_col5\" class=\"data row10 col5\" >0</td>\n",
       "      <td id=\"T_020e4_row10_col6\" class=\"data row10 col6\" >0</td>\n",
       "      <td id=\"T_020e4_row10_col7\" class=\"data row10 col7\" >43</td>\n",
       "      <td id=\"T_020e4_row10_col8\" class=\"data row10 col8\" >98</td>\n",
       "      <td id=\"T_020e4_row10_col9\" class=\"data row10 col9\" >98</td>\n",
       "      <td id=\"T_020e4_row10_col10\" class=\"data row10 col10\" >208</td>\n",
       "      <td id=\"T_020e4_row10_col11\" class=\"data row10 col11\" >253</td>\n",
       "      <td id=\"T_020e4_row10_col12\" class=\"data row10 col12\" >253</td>\n",
       "      <td id=\"T_020e4_row10_col13\" class=\"data row10 col13\" >253</td>\n",
       "      <td id=\"T_020e4_row10_col14\" class=\"data row10 col14\" >253</td>\n",
       "      <td id=\"T_020e4_row10_col15\" class=\"data row10 col15\" >187</td>\n",
       "      <td id=\"T_020e4_row10_col16\" class=\"data row10 col16\" >22</td>\n",
       "      <td id=\"T_020e4_row10_col17\" class=\"data row10 col17\" >0</td>\n",
       "    </tr>\n",
       "  </tbody>\n",
       "</table>\n"
      ],
      "text/plain": [
       "<pandas.io.formats.style.Styler at 0x230742f8920>"
      ]
     },
     "execution_count": 11,
     "metadata": {},
     "output_type": "execute_result"
    }
   ],
   "source": [
    "im3_t = tensor(im3)\n",
    "df = pd.DataFrame(im3_t[4:15,4:22])\n",
    "df.style.set_properties(**{'font-size':'6pt'}).background_gradient('Greys')"
   ]
  },
  {
   "cell_type": "markdown",
   "id": "2d0c8c02-a361-450a-991a-5d110e5c4df5",
   "metadata": {},
   "source": [
    "now that we have seen what an image looks like to a computer lets return back to our goal\n",
    "### creating a model that recognizes 3s and 7s"
   ]
  },
  {
   "cell_type": "markdown",
   "id": "fedec4c8-d2b5-4ef3-944b-e26decba4964",
   "metadata": {},
   "source": [
    "## baseline\n",
    "a simple model that you are confident should perform reasonably well. it should be simple to implement adn easy to test, so that you can then test each of your imporoved ideas and make sure the yare always beter than your baseline. Without starting with a sensible baseline, it is difficult to know whether your super-fancy models are any good."
   ]
  },
  {
   "cell_type": "markdown",
   "id": "28d54069-644a-4f6d-810f-685b530e9fa5",
   "metadata": {},
   "source": [
    "# step 1\n",
    "our simple model is to get the average of pixel values for each of our two groups."
   ]
  },
  {
   "cell_type": "code",
   "execution_count": 12,
   "id": "61683ed9-7afe-44f9-8536-332d4485f931",
   "metadata": {},
   "outputs": [
    {
     "data": {
      "text/plain": [
       "(6131, 6265)"
      ]
     },
     "execution_count": 12,
     "metadata": {},
     "output_type": "execute_result"
    }
   ],
   "source": [
    "seven_tensors = [tensor(Image.open(o)) for o in sevens]\n",
    "three_tensors = [tensor(Image.open(o)) for o in threes]\n",
    "len(three_tensors),len(seven_tensors)"
   ]
  },
  {
   "cell_type": "code",
   "execution_count": 13,
   "id": "504a64b1-2960-4f87-882f-bd2931150bd2",
   "metadata": {},
   "outputs": [
    {
     "data": {
      "image/png": "[encoded data removed]",
      "text/plain": [
       "<Figure size 100x100 with 1 Axes>"
      ]
     },
     "metadata": {},
     "output_type": "display_data"
    }
   ],
   "source": [
    "show_image(three_tensors[1]);"
   ]
  },
  {
   "cell_type": "code",
   "execution_count": 14,
   "id": "0a696f89-2cba-460f-853a-18f3b70cf529",
   "metadata": {},
   "outputs": [
    {
     "data": {
      "text/plain": [
       "torch.Size([6131, 28, 28])"
      ]
     },
     "execution_count": 14,
     "metadata": {},
     "output_type": "execute_result"
    }
   ],
   "source": [
    "stacked_sevens = torch.stack(seven_tensors).float()/255\n",
    "stacked_threes = torch.stack(three_tensors).float()/255\n",
    "stacked_threes.shape"
   ]
  },
  {
   "cell_type": "code",
   "execution_count": 15,
   "id": "cd2dae8d-570e-4640-a7fc-7fad281f457b",
   "metadata": {},
   "outputs": [
    {
     "data": {
      "text/plain": [
       "3"
      ]
     },
     "execution_count": 15,
     "metadata": {},
     "output_type": "execute_result"
    }
   ],
   "source": [
    "len(stacked_threes.shape)"
   ]
  },
  {
   "cell_type": "code",
   "execution_count": 16,
   "id": "67210281-e705-4801-97e0-09439d92c7ba",
   "metadata": {},
   "outputs": [
    {
     "data": {
      "text/plain": [
       "3"
      ]
     },
     "execution_count": 16,
     "metadata": {},
     "output_type": "execute_result"
    }
   ],
   "source": [
    "stacked_threes.ndim"
   ]
  },
  {
   "cell_type": "code",
   "execution_count": 17,
   "id": "941f63e0-15be-4534-8337-a4d037f4e6ec",
   "metadata": {},
   "outputs": [
    {
     "data": {
      "image/png": "[encoded data removed]",
      "text/plain": [
       "<Figure size 100x100 with 1 Axes>"
      ]
     },
     "metadata": {},
     "output_type": "display_data"
    }
   ],
   "source": [
    "mean3 = stacked_threes.mean(0)\n",
    "show_image(mean3);"
   ]
  },
  {
   "cell_type": "code",
   "execution_count": 18,
   "id": "201d2cf9-c4d2-4f62-89ef-083371c1b7ab",
   "metadata": {},
   "outputs": [
    {
     "data": {
      "image/png": "[encoded data removed]",
      "text/plain": [
       "<Figure size 100x100 with 1 Axes>"
      ]
     },
     "metadata": {},
     "output_type": "display_data"
    }
   ],
   "source": [
    "mean7 = stacked_sevens.mean(0)\n",
    "show_image(mean7);"
   ]
  },
  {
   "cell_type": "code",
   "execution_count": 19,
   "id": "c28586f8-b05e-4212-ae93-df4642685eed",
   "metadata": {},
   "outputs": [
    {
     "data": {
      "image/png": "[encoded data removed]",
      "text/plain": [
       "<Figure size 100x100 with 1 Axes>"
      ]
     },
     "metadata": {},
     "output_type": "display_data"
    }
   ],
   "source": [
    "a_3 = stacked_threes[1]\n",
    "show_image(a_3);"
   ]
  },
  {
   "cell_type": "markdown",
   "id": "99763ed5-5234-443c-9ffc-d41407a6b789",
   "metadata": {},
   "source": [
    "# note if you do not understand absolute value of differences and square of differences please read up on them as they are important"
   ]
  },
  {
   "cell_type": "code",
   "execution_count": null,
   "id": "f91aa0fd-56dc-478a-b9f0-bc5e251830cd",
   "metadata": {},
   "outputs": [],
   "source": []
  }
 ],
 "metadata": {
  "kernelspec": {
   "display_name": "Python 3 (ipykernel)",
   "language": "python",
   "name": "python3"
  },
  "language_info": {
   "codemirror_mode": {
    "name": "ipython",
    "version": 3
   },
   "file_extension": ".py",
   "mimetype": "text/x-python",
   "name": "python",
   "nbconvert_exporter": "python",
   "pygments_lexer": "ipython3",
   "version": "3.12.2"
  }
 },
 "nbformat": 4,
 "nbformat_minor": 5
}
